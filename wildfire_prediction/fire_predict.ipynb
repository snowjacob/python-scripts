{
  "nbformat": 4,
  "nbformat_minor": 0,
  "metadata": {
    "colab": {
      "provenance": [],
      "machine_shape": "hm",
      "gpuType": "A100"
    },
    "kernelspec": {
      "name": "python3",
      "display_name": "Python 3"
    },
    "language_info": {
      "name": "python"
    },
    "accelerator": "GPU"
  },
  "cells": [
    {
      "cell_type": "code",
      "execution_count": null,
      "metadata": {
        "colab": {
          "base_uri": "https://localhost:8080/"
        },
        "id": "GM6s2FM5tAN8",
        "outputId": "fdf47f9d-5ea8-4b5e-d74b-a3aa73165a23"
      },
      "outputs": [
        {
          "output_type": "stream",
          "name": "stdout",
          "text": [
            "Found GPU at: /device:GPU:0\n"
          ]
        }
      ],
      "source": [
        "import tensorflow as tf\n",
        "device_name = tf.test.gpu_device_name()\n",
        "if device_name != '/device:GPU:0':\n",
        "  raise SystemError('GPU device not found')\n",
        "print('Found GPU at: {}'.format(device_name))"
      ]
    },
    {
      "cell_type": "code",
      "source": [
        "from tensorflow import keras\n",
        "from keras import layers\n",
        "from keras.layers import ReLU\n",
        "from keras import Sequential"
      ],
      "metadata": {
        "id": "2TKu_hGTUnyo"
      },
      "execution_count": null,
      "outputs": []
    },
    {
      "cell_type": "code",
      "source": [
        "train_ds = tf.keras.preprocessing.image_dataset_from_directory(\n",
        "    '/content/drive/MyDrive/data/wildfire_prediction/train',\n",
        "    labels='inferred',\n",
        "    label_mode='int',\n",
        "    class_names=['nowildfire', 'wildfire'],\n",
        "    color_mode='rgb',\n",
        "    batch_size=32,\n",
        "    image_size=(350, 350),\n",
        "    shuffle=True,\n",
        "    seed=123,\n",
        "    validation_split=0.2,\n",
        "    subset='validation',\n",
        "    interpolation='bilinear'\n",
        ")"
      ],
      "metadata": {
        "colab": {
          "base_uri": "https://localhost:8080/"
        },
        "id": "tQM43g_ZVYOK",
        "outputId": "7d89f9a4-c8ea-4281-f3f5-7b909a118365"
      },
      "execution_count": null,
      "outputs": [
        {
          "output_type": "stream",
          "name": "stdout",
          "text": [
            "Found 19153 files belonging to 2 classes.\n",
            "Using 3830 files for validation.\n"
          ]
        }
      ]
    },
    {
      "cell_type": "code",
      "source": [
        "val_ds = tf.keras.preprocessing.image_dataset_from_directory(\n",
        "    '/content/drive/MyDrive/data/wildfire_prediction/valid',\n",
        "    labels='inferred',\n",
        "    label_mode='int',\n",
        "    class_names=['nowildfire', 'wildfire'],\n",
        "    color_mode='rgb',\n",
        "    batch_size = 32,\n",
        "    image_size=(350, 350),\n",
        "    shuffle=True,\n",
        "    seed=123,\n",
        "    interpolation='bilinear'\n",
        ")"
      ],
      "metadata": {
        "id": "BJmIfhTyVmwr",
        "colab": {
          "base_uri": "https://localhost:8080/"
        },
        "outputId": "f80809f4-02ce-4e68-e5a6-08e6fd2f55ea"
      },
      "execution_count": null,
      "outputs": [
        {
          "output_type": "stream",
          "name": "stdout",
          "text": [
            "Found 6300 files belonging to 2 classes.\n"
          ]
        }
      ]
    },
    {
      "cell_type": "markdown",
      "source": [
        "We will take 1024 images from each class from the training data and 512 images for each class from the validation data"
      ],
      "metadata": {
        "id": "vpNF4A5eXbPB"
      }
    },
    {
      "cell_type": "code",
      "source": [
        "train_ds = train_ds.take(2056)\n",
        "val_ds = val_ds.take(1012)"
      ],
      "metadata": {
        "id": "G76l8frAX1M9"
      },
      "execution_count": null,
      "outputs": []
    },
    {
      "cell_type": "markdown",
      "source": [
        "**HYPERPARAMETERS**"
      ],
      "metadata": {
        "id": "FHQEuaMrW0f3"
      }
    },
    {
      "cell_type": "code",
      "source": [
        "epochs = 7\n",
        "lr = 0.000112\n",
        "beta_1 = 0.755\n",
        "beta_2 = 0.992\n",
        "epsilon = 1e-07\n",
        "decay = 0.0000256\n",
        "\n",
        "AUTOTUNE = tf.data.AUTOTUNE\n",
        "train_ds = train_ds.cache().prefetch(buffer_size=AUTOTUNE)\n",
        "val_ds = val_ds.cache().prefetch(buffer_size=AUTOTUNE)"
      ],
      "metadata": {
        "id": "Oq-R-3Q0W5pA"
      },
      "execution_count": null,
      "outputs": []
    },
    {
      "cell_type": "code",
      "source": [
        "from google.colab import drive\n",
        "drive.mount('/content/drive')"
      ],
      "metadata": {
        "id": "ozOj0SoUtvrk",
        "colab": {
          "base_uri": "https://localhost:8080/"
        },
        "outputId": "8bc78c7b-0fef-4f3b-a9fb-c676017e80ee"
      },
      "execution_count": null,
      "outputs": [
        {
          "output_type": "stream",
          "name": "stdout",
          "text": [
            "Drive already mounted at /content/drive; to attempt to forcibly remount, call drive.mount(\"/content/drive\", force_remount=True).\n"
          ]
        }
      ]
    },
    {
      "cell_type": "markdown",
      "source": [
        "**Building a Sequential Model**"
      ],
      "metadata": {
        "id": "qaetMpe-YgTT"
      }
    },
    {
      "cell_type": "code",
      "source": [
        "def build_model():\n",
        "  model = Sequential([\n",
        "    layers.Conv2D(8, 4, padding='same', activation=ReLU()),\n",
        "    layers.BatchNormalization(),\n",
        "    layers.AveragePooling2D(),\n",
        "    layers.Conv2D(16, 4, padding='same', activation=ReLU()),\n",
        "    layers.BatchNormalization(),\n",
        "    layers.AveragePooling2D(),\n",
        "    layers.Conv2D(32, 4, padding='same', activation=ReLU()),\n",
        "    layers.BatchNormalization(),\n",
        "    layers.MaxPooling2D(),\n",
        "    layers.Flatten(),\n",
        "    layers.Dense(512, activation=ReLU()),\n",
        "    layers.Dropout(0.8),\n",
        "    layers.Dense(124, activation=ReLU()),\n",
        "    layers.Dropout(0.7),\n",
        "    layers.Dense(1, activation='sigmoid')\n",
        "  ])\n",
        "  optimizer = tf.keras.optimizers.Adam(learning_rate=lr, beta_1=beta_1, beta_2=beta_2, epsilon=epsilon, weight_decay = decay)\n",
        "  model.compile(optimizer=optimizer,\n",
        "           loss=tf.keras.losses.BinaryCrossentropy(from_logits=False),\n",
        "           metrics=['accuracy'])\n",
        "  return model\n",
        "\n",
        "model = build_model()"
      ],
      "metadata": {
        "id": "Gt6DW1IGY0y1"
      },
      "execution_count": null,
      "outputs": []
    },
    {
      "cell_type": "markdown",
      "source": [
        "Train the model"
      ],
      "metadata": {
        "id": "ofU2BTP9ZP-k"
      }
    },
    {
      "cell_type": "code",
      "source": [
        "history = model.fit(\n",
        "    train_ds,\n",
        "    validation_data = val_ds,\n",
        "    epochs=epochs\n",
        ")"
      ],
      "metadata": {
        "id": "eY0oleaEZTtC",
        "colab": {
          "base_uri": "https://localhost:8080/"
        },
        "outputId": "ddafb365-2dfa-4d6d-9814-5b19c21c5cf2"
      },
      "execution_count": null,
      "outputs": [
        {
          "output_type": "stream",
          "name": "stdout",
          "text": [
            "Epoch 1/7\n",
            "120/120 [==============================] - 12s 69ms/step - loss: 2.3139 - accuracy: 0.7932 - val_loss: 4.1802 - val_accuracy: 0.6208\n",
            "Epoch 2/7\n",
            "120/120 [==============================] - 7s 60ms/step - loss: 1.6078 - accuracy: 0.8311 - val_loss: 1.4791 - val_accuracy: 0.8668\n",
            "Epoch 3/7\n",
            "120/120 [==============================] - 7s 60ms/step - loss: 1.1506 - accuracy: 0.8556 - val_loss: 0.9503 - val_accuracy: 0.8913\n",
            "Epoch 4/7\n",
            "120/120 [==============================] - 7s 59ms/step - loss: 0.7644 - accuracy: 0.8514 - val_loss: 0.9925 - val_accuracy: 0.8903\n",
            "Epoch 5/7\n",
            "120/120 [==============================] - 7s 60ms/step - loss: 0.6073 - accuracy: 0.8640 - val_loss: 0.9888 - val_accuracy: 0.8784\n",
            "Epoch 6/7\n",
            "120/120 [==============================] - 7s 60ms/step - loss: 0.5704 - accuracy: 0.8726 - val_loss: 0.8479 - val_accuracy: 0.8829\n",
            "Epoch 7/7\n",
            "120/120 [==============================] - 7s 60ms/step - loss: 0.6683 - accuracy: 0.8525 - val_loss: 0.8924 - val_accuracy: 0.9078\n"
          ]
        }
      ]
    },
    {
      "cell_type": "markdown",
      "source": [
        "Save the model"
      ],
      "metadata": {
        "id": "tP9E35tAZe71"
      }
    },
    {
      "cell_type": "code",
      "source": [
        "model.save('fire_model.h5')"
      ],
      "metadata": {
        "id": "imHuWW2eZg70"
      },
      "execution_count": null,
      "outputs": []
    }
  ]
}